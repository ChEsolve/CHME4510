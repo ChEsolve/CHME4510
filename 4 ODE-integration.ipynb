{
 "cells": [
  {
   "cell_type": "markdown",
   "metadata": {
    "collapsed": false
   },
   "source": [
    "# 4. Integrating ODEs using `odeint`\n",
    "\n",
    "First, import some stuff we'll need. We give some of them nicknames to save typing later"
   ]
  },
  {
   "cell_type": "code",
   "execution_count": 1,
   "metadata": {
    "collapsed": false
   },
   "outputs": [],
   "source": [
    "%matplotlib inline\n",
    "import matplotlib.pyplot as plt\n",
    "import numpy as np\n",
    "from scipy.integrate import odeint"
   ]
  },
  {
   "cell_type": "markdown",
   "metadata": {},
   "source": [
    "The function `odeint`, which is found in the `integrate` submodule of the `scipy` package, integrates ordinary differential equations of the form\n",
    "$$\n",
    "\\newcommand{\\yy}{\\mathbf{y}}\n",
    "\\newcommand{\\ff}{\\mathbf{f}}\n",
    "\\frac{\\mathrm{d} \\yy}{\\mathrm{d}t} = \\ff(\\yy, t),\n",
    "$$where $\\yy$ is a vector in $\\mathbb{R}^n$, or\n",
    "$$\n",
    "\\dot{\\yy} =  \\ff(\\yy, t).\n",
    "$$\n",
    "That is, it provides a numerical solution of the *initial value problem* given by this differential equation, together with an initial condition\n",
    "$$\n",
    "\\yy(t = t_0) = \\yy_0,\n",
    "$$\n",
    "returning the solution curve (or trajectory) $\\yy(t)$ as a function of time $t$, within a certain (finite!) range of values of $t$.\n",
    "\n",
    "Writing $\\yy = (y_1, \\ldots, y_n)$, we have a system of the form\n",
    "\\begin{align}\n",
    "\\dot{y_1} &= f_1(y_1, \\ldots, y_n, t) \\\\\n",
    "\\dot{y_2} &= f_2(y_1, \\ldots, y_n, t) \\\\\n",
    "&\\ldots \\\\\n",
    "\\dot{y_n} &= f_n(y_1, \\ldots, y_n, t)\n",
    "\\end{align}\n",
    "\n",
    "Note that in fact, *any* ordinary (system of) ordinary differential equation(s) can be written in this form by defining new variables to represent higher-order derivatives,  \n",
    "and incorporating them into the vector $\\yy$ of variables.\n",
    "\n",
    "To use `odeint`, we must define at least the Python function `f` which implements the mathematical function $\\ff$. It must take a vector `y` and a time `t`,\n",
    "and return the new vector `f(y,t)`."
   ]
  },
  {
   "cell_type": "markdown",
   "metadata": {},
   "source": [
    "## 1D equations"
   ]
  },
  {
   "cell_type": "markdown",
   "metadata": {},
   "source": [
    "The simplest case is when the spatial dimension is $n=1$. For example, we could wish to solve the ODE\n",
    "$\n",
    "\\dot{y} = ay,\n",
    "$\n",
    "whose exact solution is, of course, $y(t) = y_0 \\exp(a t)$."
   ]
  },
  {
   "cell_type": "code",
   "execution_count": 2,
   "metadata": {
    "collapsed": false
   },
   "outputs": [
    {
     "data": {
      "image/png": "[encoded data removed]",
      "text/plain": [
       "<matplotlib.figure.Figure at 0x105d8afd0>"
      ]
     },
     "metadata": {},
     "output_type": "display_data"
    }
   ],
   "source": [
    "a = 2.0\n",
    "def f(y, t):\n",
    "    return a*y\n",
    "times = np.linspace(0,6)\n",
    "y0 = 1.0\n",
    "y_output = odeint(f, y0, times)\n",
    "y_exact = y0*np.exp(a*times)\n",
    "plt.plot(times, y_output, 'r.', label='integrated')\n",
    "plt.plot(times, y_exact, label='analytical')\n",
    "plt.legend()\n",
    "plt.show()"
   ]
  },
  {
   "cell_type": "markdown",
   "metadata": {},
   "source": [
    "# Example E5-6, Calculating X in a reactor with pressure drop\n",
    "See page 183-188 in the textbook \"Essentials of Chemical Reaction Engineering\" by Fogler.\n",
    "\n",
    "This time we have two variables to integrate (conversion $X$ and pressure ratio $y$), so our function must accept and return a vector. We integrate over weight of catalyst $W$, not time $t$.\n",
    "The differential equations are:\n",
    "\n",
    "$$\\frac{\\mathrm{d} X}{\\mathrm{d} W} = \\frac{-r_A'}{F_{A0}}$$\n",
    "$$\\frac{\\mathrm{d} y}{\\mathrm{d} W} = -\\alpha \\frac{(1+\\epsilon X)}{2y}$$\n"
   ]
  },
  {
   "cell_type": "code",
   "execution_count": 3,
   "metadata": {
    "collapsed": false
   },
   "outputs": [],
   "source": [
    "def dYvecdV(Yvec,W):\n",
    "    X, y = Yvec # unpack values from Y vector into three variables\n",
    "    # Explicit equations\n",
    "    epsilon = -0.15\n",
    "    kprime = 0.0074\n",
    "    Fa0 = 0.1362\n",
    "    alpha = 0.0367\n",
    "    raprime = -1*kprime*(1-X)/(1+epsilon*X) * y\n",
    "    f = (1+epsilon*X)/y # ratio of v / v0\n",
    "    # Differential equations\n",
    "    dXdW = -raprime / Fa0\n",
    "    dydW = -1*alpha * (1 + epsilon * X)/ (2*y) \n",
    "    return [dXdW, dydW]  # pack up three differential equations into the dYvecdV vector"
   ]
  },
  {
   "cell_type": "markdown",
   "metadata": {},
   "source": [
    "Set up the steps you want to integrate over. In this case it's Weight not Time"
   ]
  },
  {
   "cell_type": "code",
   "execution_count": 4,
   "metadata": {
    "collapsed": false
   },
   "outputs": [],
   "source": [
    "W_output = np.linspace(0, 27., num=50) # Range for the weight of catalyst of the reactor"
   ]
  },
  {
   "cell_type": "markdown",
   "metadata": {},
   "source": [
    "Set up the initial conditions, as a vector of the two values"
   ]
  },
  {
   "cell_type": "code",
   "execution_count": 5,
   "metadata": {
    "collapsed": false
   },
   "outputs": [],
   "source": [
    "Y0 = [0., 1.] # Initial values for the dependent variables i.e X and y"
   ]
  },
  {
   "cell_type": "markdown",
   "metadata": {},
   "source": [
    "Perform the integration, and extract the results"
   ]
  },
  {
   "cell_type": "code",
   "execution_count": 6,
   "metadata": {
    "collapsed": false
   },
   "outputs": [],
   "source": [
    "Y_result = odeint(dYvecdV, Y0, W_output) # perform the integration\n",
    "X, y = Y_result.T # extract columns by transposing matrix and splitting into two variables"
   ]
  },
  {
   "cell_type": "markdown",
   "metadata": {},
   "source": [
    "Now we can plot the results"
   ]
  },
  {
   "cell_type": "code",
   "execution_count": 7,
   "metadata": {
    "collapsed": false
   },
   "outputs": [
    {
     "data": {
      "image/png": "[encoded data removed]",
      "text/plain": [
       "<matplotlib.figure.Figure at 0x105d8add0>"
      ]
     },
     "metadata": {},
     "output_type": "display_data"
    }
   ],
   "source": [
    "epsilon = -0.15\n",
    "f = (1+epsilon*X)/y # volumetric flow rate ratio\n",
    "\n",
    "plt.plot(W_output, X, label='X (conversion)')\n",
    "plt.plot(W_output, y, label='y ($P/P_0$)')\n",
    "plt.plot(W_output, f, label='f ($v/v_0$)')\n",
    "plt.legend(loc='upper left')\n",
    "plt.xlabel('Weight of catalysti (kg)')\n",
    "\n",
    "plt.show()"
   ]
  },
  {
   "cell_type": "markdown",
   "metadata": {},
   "source": [
    "# Integrating other variables\n",
    "Sometimes it's convenient to integrate things like $N_{tot}$ or Volume as well as the variables that you think you care most about. Just add them to your vector."
   ]
  },
  {
   "cell_type": "code",
   "execution_count": null,
   "metadata": {
    "collapsed": true
   },
   "outputs": [],
   "source": []
  }
 ],
 "metadata": {
  "kernelspec": {
   "display_name": "Python 2",
   "language": "python",
   "name": "python2"
  },
  "language_info": {
   "codemirror_mode": {
    "name": "ipython",
    "version": 2
   },
   "file_extension": ".py",
   "mimetype": "text/x-python",
   "name": "python",
   "nbconvert_exporter": "python",
   "pygments_lexer": "ipython2",
   "version": "2.7.11"
  }
 },
 "nbformat": 4,
 "nbformat_minor": 0
}
