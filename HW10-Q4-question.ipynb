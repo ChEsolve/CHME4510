{
 "cells": [
  {
   "cell_type": "markdown",
   "metadata": {},
   "source": [
    "# Homework 10, question 4\n",
    "First we need to set up the notebook to draw the plots inline, and import some libraries:"
   ]
  },
  {
   "cell_type": "code",
   "execution_count": 1,
   "metadata": {
    "collapsed": true
   },
   "outputs": [],
   "source": [
    "%matplotlib inline\n",
    "import matplotlib.pyplot as plt\n",
    "import numpy as np\n",
    "import scipy\n",
    "import scipy.integrate\n",
    "import scipy.optimize"
   ]
  },
  {
   "cell_type": "markdown",
   "metadata": {},
   "source": [
    "The following cell will just try to make the graphs look nicer."
   ]
  },
  {
   "cell_type": "code",
   "execution_count": 2,
   "metadata": {
    "collapsed": true
   },
   "outputs": [],
   "source": [
    "try:\n",
    "    import seaborn as sns\n",
    "except ImportError:\n",
    "    # This block will be run if there's an ImportError, i.e you don't have seaborn installed.\n",
    "    sns = False\n",
    "    print (\"If you want to try different figure formatting, \"\n",
    "           \"type 'conda install seaborn' at an anaconda command prompt or terminal. \"\n",
    "           \"See https://stanford.edu/~mwaskom/software/seaborn/ for details\")\n",
    "    # If not using seaborn, we can still control the size of the figures this way\n",
    "    from pylab import rcParams\n",
    "    rcParams['figure.figsize'] = 4, 4\n",
    "else:\n",
    "    # This block will be run if there is no ImportError\n",
    "    sns.set_style(\"ticks\")\n",
    "    sns.set_context(\"poster\",rc={\"figure.figsize\": (4, 4)})"
   ]
  },
  {
   "cell_type": "markdown",
   "metadata": {},
   "source": [
    "## The system description\n",
    "The following complex gas phase reactions follow elementary rate laws\n",
    "$$\\require{mhchem}$$\n",
    "(1) $$\\ce{A + 2B -> C}$$\n",
    "(2) $$\\ce{2A + 3C -> D}$$\n",
    "and take place in a PFR. The feed is stoichiometric for reaction (1) in A and B with $F_{A0}$ = 5 mol/min. The reactor volume is 10 dm<sup>3</sup> and the total entering concentration is $C_{T0}$ = 0.2 mol/dm<sup>3</sup>. The entering pressure is 100 atm and the entering temperature is 300 K. The coolant flow rate is 50 mol/min and the entering coolant fluid has a heat capacity of $C_{P,cool}$ = 10 cal/mol/K and enters at a temperature of 325 K.\n",
    "\n",
    " * $-r_{1A} = k_{1A} C_A C_B^2$\n",
    " * $k_{1A} = 40$ dm<sup>6</sup>/mol<sup>2</sup>/min at 300 K with $E_1 = 8000$ cal/mol\n",
    " * $\\Delta H_{Rx1B}= -1500$ cal/mole B \n",
    " * $-r_{2C} = k_{2C} C_A^2 C_C^3$\n",
    " * $\\Delta H_{Rx2A} = -10,000$ cal/mole A\n",
    " * $k_{2C} = 2$ dm<sup>12</sup>/mol<sup>4</sup>/min at 300K with $E_2 = 12,000$ cal/mol\n",
    " * $C_{P,A} = 10$ cal/mol/K\n",
    " * $C_{P,B} = 12$ cal/mol/K\n",
    " * $C_{P,C} = 14$ cal/mol/K\n",
    " * $C_{P,D} = 16$ cal/mol/K\n",
    " * $Ua = 80$ cal/min/K\n",
    " * $T_{a0} = 325$ K\n",
    " * $\\dot{m} = 50$ mol/min\n",
    " * $C_{P,cool} = 10$ cal/mol/K\n",
    " \n",
    "Plot $F_A$, $F_B$, $F_C$, $F_D$, $y$, $T$, $T_a$ as a function of $V$ for:\n",
    "\n",
    " * (a) Co-current heat exchange (cooling fluid at $\\dot{m}$ enters at $T_{a0}$ at $V=0$)\n",
    " * (b) Counter-current heat exchange (cooling fluid at $\\dot{m}$ enters at $T_{a0}$ at $V=10$ dm<sup>3</sup>)\n",
    " * (c) Constant temperature heat exchange (as if $\\dot{m}=\\infty$)\n",
    " * (d) Adiabatic (no heat exchange)\n",
    " \n",
    " **Notes:**\n",
    "Neglect pressure drop.\n",
    "The description above uses Fogler's syntax where $k_{2C}$ reminds you that it is for a per-mole-of-C basis rate law, and $\\Delta H_{Rx2A}$ means the enthalpy change of reaction 1 on a per-mole-of-A basis (though it is per mole of A consumed, not produced; the forward reaction is exothermic). The tests below assume you're doing everything on a \"per mole of reaction as written\" basis."
   ]
  },
  {
   "cell_type": "code",
   "execution_count": 3,
   "metadata": {
    "collapsed": true
   },
   "outputs": [],
   "source": [
    "DHr1 = -15000. * 2 # value given is per mole of B\n",
    "DHr2 = -10000. * 2 # value given is per mole of A\n",
    "Cpa = 10 # cal/mol/K\n",
    "Cpb = 12 # cal/mol/K\n",
    "Cpc = 14 # cal/mol/K\n",
    "Cpd = 16 # cal/mol/K\n",
    "Ua = 80 # cal/min/K\n",
    "Ta0 = 325 # K\n",
    "mdot = 50 # mol/min\n",
    "Cpcool = 10 # cal/mol/K\n",
    "Fa0 = 5 # mol/min\n",
    "Fb0 = 10 # mol/min\n",
    "Fc0 = 0\n",
    "Fd0 = 0\n",
    "P0 = 100 # atm\n",
    "T0 = 300 # K\n",
    "Ct0 = 0.2 # initial total concentration, mol/dm3"
   ]
  },
  {
   "cell_type": "code",
   "execution_count": 4,
   "metadata": {
    "collapsed": false
   },
   "outputs": [],
   "source": [
    "def k1(T):\n",
    "    \"Return the rate constant for reaction 1 at the given temperature\"\n",
    "\n",
    "    return 0####FIXME####"
   ]
  },
  {
   "cell_type": "code",
   "execution_count": 5,
   "metadata": {
    "collapsed": false
   },
   "outputs": [],
   "source": [
    "# Some tests\n",
    "assert k1(300) == 40.\n",
    "assert round(k1(400),1) == 1146.0"
   ]
  },
  {
   "cell_type": "code",
   "execution_count": 6,
   "metadata": {
    "collapsed": true
   },
   "outputs": [],
   "source": [
    "def k2(T):\n",
    "    \"Return the rate constant for reaction 2 at the given temperature\"\n",
    "\n",
    "    return 0####FIXME####"
   ]
  },
  {
   "cell_type": "code",
   "execution_count": 7,
   "metadata": {
    "collapsed": false
   },
   "outputs": [],
   "source": [
    "# Some tests\n",
    "assert k2(300) != 2., \"Beware: The given value is per mole of C\"\n",
    "assert round(k2(300),2) == 0.67\n",
    "assert round(k2(400),2) == 102.23"
   ]
  },
  {
   "cell_type": "code",
   "execution_count": 8,
   "metadata": {
    "collapsed": false
   },
   "outputs": [],
   "source": [
    "def dVector_dV(vector, V, heatexchange='co-current'):\n",
    "    \"\"\"\n",
    "    Returns the volume-derivative of a vector containing\n",
    "    the variables (Fa, Fb, Fc, Fd, y, T, Ta).\n",
    "    The parameter `heatexchange` must be one of \n",
    "    'co-current', 'counter-current', 'constant-Ta', or 'adiabatic'.\n",
    "    If not specified, the default is 'co-current'.\n",
    "    \"\"\"\n",
    "    Fa, Fb, Fc, Fd, y, T, Ta = vector\n",
    "    assert heatexchange in ['co-current', 'counter-current', 'constant-Ta', 'adiabatic']\n",
    "\n",
    "    Ft = 0####FIXME####\n",
    "    Ct = 0####FIXME####\n",
    "    Ca = 0####FIXME####\n",
    "    Cb = 0####FIXME####\n",
    "    Cc = 0####FIXME####\n",
    "    Cd = 0####FIXME####\n",
    "    r1 = 0####FIXME####\n",
    "    r2 = 0####FIXME####\n",
    "\n",
    "    ra = 0####FIXME####\n",
    "    rb = 0####FIXME####\n",
    "    rc = 0####FIXME####\n",
    "    rd = 0####FIXME####\n",
    "    \n",
    "    # Qg is \"heat generated\"\n",
    "    Qg = 0####FIXME####\n",
    "    \n",
    "    # Qr is \"heat removed\"\n",
    "    if heatexchange == 'adiabatic':\n",
    "        Qr = 0####FIXME####\n",
    "    else:\n",
    "        Qr = 0####FIXME####\n",
    "    \n",
    "    sumFiCpi = 0####FIXME####\n",
    "    \n",
    "    dFa_dV = 0####FIXME####\n",
    "    dFb_dV = 0####FIXME####\n",
    "    dFc_dV = 0####FIXME####\n",
    "    dFd_dV = 0####FIXME####\n",
    "    dy_dV = 0\n",
    "    dT_dV = 0####FIXME####\n",
    "\n",
    "    if heatexchange == 'co-current':\n",
    "        dTa_dV = 0####FIXME####\n",
    "    elif heatexchange == 'counter-current':\n",
    "        dTa_dV = 0####FIXME####\n",
    "    else:\n",
    "        dTa_dV = 0\n",
    "    return (dFa_dV,\n",
    "            dFb_dV,\n",
    "            dFc_dV,\n",
    "            dFd_dV,\n",
    "            dy_dV,\n",
    "            dT_dV,\n",
    "            dTa_dV)\n"
   ]
  },
  {
   "cell_type": "code",
   "execution_count": 9,
   "metadata": {
    "collapsed": false
   },
   "outputs": [],
   "source": [
    "# Some tests\n",
    "np.testing.assert_allclose(dVector_dV((Fa0, Fb0, Fc0, Fd0, 1.0, T0, Ta0), 0), (-0.047407407407407398, -0.094814814814814796, 0.047407407407407398, 0.0, 0, 20.130718954248362, -4))\n",
    "np.testing.assert_allclose(dVector_dV((10, 10, 10, 10, 1.0, 300, 600), 0, heatexchange='counter-current'), (-0.0050004166666666678, -0.010000000000000002, 0.0049993750000000012, 2.0833333333333339e-07, 0, 46.442315705128202, 48))\n",
    "np.testing.assert_allclose(dVector_dV((10, 10, 10, 10, 1.0, 300, 600), 0, heatexchange='constant-Ta'),(-0.0050004166666666678, -0.010000000000000002, 0.0049993750000000012, 2.0833333333333339e-07, 0, 46.442315705128202, 0))\n",
    "np.testing.assert_allclose(dVector_dV((10, 10, 10, 10, 1.0, 400, 600), 0, heatexchange='adiabatic'),(-0.060448050006020868, -0.12086577476161001, 0.060410143442981207, 7.5813126079323574e-06, 0, 3.4868043224544398, 0))"
   ]
  },
  {
   "cell_type": "code",
   "execution_count": 10,
   "metadata": {
    "collapsed": true
   },
   "outputs": [],
   "source": [
    "def make_plots(odeint_result):\n",
    "    \"\"\"\n",
    "    Make some plots from the given odeint result,\n",
    "    and print the selectivity of C to D\n",
    "    \"\"\"\n",
    "    Fa, Fb, Fc, Fd, y, T, Ta = odeint_result.T\n",
    "    plt.plot(volumes, T, label=\"T\")\n",
    "    plt.plot(volumes, Ta, label=\"Ta\")\n",
    "    plt.legend(loc=\"best\")\n",
    "    plt.show()\n",
    "\n",
    "    plt.plot(volumes, Fa, label=\"F$_A$\")\n",
    "    plt.plot(volumes, Fb, label=\"F$_B$\")\n",
    "    plt.plot(volumes, Fc, label=\"F$_C$\")\n",
    "    plt.plot(volumes, Fd, label=\"F$_D$\")\n",
    "    plt.legend(loc=\"best\")\n",
    "    plt.show()\n",
    "\n",
    "    ## Skip this, it's boring because we assume no pressure drop\n",
    "    #plt.plot(volumes, y, label=\"y\")\n",
    "    #plt.legend(loc=\"best\")\n",
    "    #plt.show()\n",
    "    \n",
    "    print(\"Maximum temperature reached is {0:.0f} K\".format(T.max()))\n",
    "    \n",
    "    selectivity = Fc[-1] / Fd[-1]\n",
    "    print(\"Exit flow rates Fc={0:.3g}, Fd={1:.3g} mol/min\".format(Fc[-1] , Fd[-1]))\n",
    "    print(\"Selectivity C/D = {0}\".format(selectivity))"
   ]
  },
  {
   "cell_type": "markdown",
   "metadata": {},
   "source": [
    "## Co-current heat exchange"
   ]
  },
  {
   "cell_type": "code",
   "execution_count": 11,
   "metadata": {
    "collapsed": false
   },
   "outputs": [
    {
     "data": {
      "image/png": "[encoded data removed]",
      "text/plain": [
       "<matplotlib.figure.Figure at 0x103837f50>"
      ]
     },
     "metadata": {},
     "output_type": "display_data"
    },
    {
     "data": {
      "image/png": "[encoded data removed]",
      "text/plain": [
       "<matplotlib.figure.Figure at 0x115ff6910>"
      ]
     },
     "metadata": {},
     "output_type": "display_data"
    },
    {
     "name": "stdout",
     "output_type": "stream",
     "text": [
      "Maximum temperature reached is just under 900 K\n",
      "Exit flow rates Fc=4.59, Fd=0.003ish mol/min\n",
      "Selectivity C/D = about 1200\n"
     ]
    }
   ],
   "source": [
    "initial_values = (Fa0, Fb0, Fc0, Fd0, 1.0, T0, Ta0)\n",
    "volumes = np.linspace(0,10,100)\n",
    "result = scipy.integrate.odeint(dVector_dV, initial_values, volumes)\n",
    "make_plots(result)"
   ]
  },
  {
   "cell_type": "markdown",
   "metadata": {},
   "source": [
    "## Counter-current heat exchange\n"
   ]
  },
  {
   "cell_type": "code",
   "execution_count": 12,
   "metadata": {
    "collapsed": false
   },
   "outputs": [
    {
     "name": "stdout",
     "output_type": "stream",
     "text": [
      "With cooling water exit temperature 400.0\n",
      "Actual entrance Ta is 187.696323043\n",
      "Target entrance Ta is Ta0 = 325\n",
      "[ about 500ish ]\n",
      "Trying again with Ta_exit = about 500ish\n",
      "Actual entrance Ta is 325.000000816\n",
      "Target entrance Ta is Ta0 = 325\n"
     ]
    },
    {
     "data": {
      "text/plain": [
       "<matplotlib.figure.Figure at 0x10afcdd50>"
      ]
     },
     "metadata": {},
     "output_type": "display_data"
    },
    {
     "data": {
      "text/plain": [
       "<matplotlib.figure.Figure at 0x116d73d10>"
      ]
     },
     "metadata": {},
     "output_type": "display_data"
    },
    {
     "name": "stdout",
     "output_type": "stream",
     "text": [
      "Maximum temperature reached is about 1100 K!!\n",
      "Exit flow rates Fc=4.59, Fd=0.003ish again mol/min\n",
      "Selectivity C/D = about 1200\n"
     ]
    }
   ],
   "source": [
    "Ta_exit = 400. # guess the cooling fluid temperature at V=0\n",
    "initial_values = (Fa0, Fb0, Fc0, Fd0, 1.0, T0, Ta_exit)\n",
    "volumes = np.linspace(0,10,100)\n",
    "result = scipy.integrate.odeint(dVector_dV, initial_values, volumes, args=('counter-current',))\n",
    "Ta_entrance = result[-1][6] # cooling fluid temperature at V=10 dm3\n",
    "print(\"With cooling water exit temperature {0}\".format(Ta_exit))\n",
    "print(\"Actual entrance Ta is {0}\".format(Ta_entrance))\n",
    "print(\"Target entrance Ta is Ta0 = {0}\".format(Ta0))\n",
    "\n",
    "# We could guess many times until we're right\n",
    "# but instead we can use scipy.optimize.fsolve to find it for us\n",
    "def make_this_zero(Ta_exit):\n",
    "    \"We want to find the Ta_exit that will make this function return zero\"\n",
    "     \n",
    "    return 0####FIXME####\n",
    "\n",
    "fsolve_result = scipy.optimize.fsolve(make_this_zero, 400)\n",
    "print fsolve_result\n",
    "Ta_exit = fsolve_result[0]\n",
    "\n",
    "print(\"Trying again with Ta_exit = {0}\".format(Ta_exit))\n",
    "initial_values = (Fa0, Fb0, Fc0, Fd0, 1.0, T0, Ta_exit)\n",
    "result = scipy.integrate.odeint(dVector_dV, initial_values, volumes, args=('counter-current',))\n",
    "Ta_entrance = result[-1][6]\n",
    "print(\"Actual entrance Ta is {0}\".format(Ta_entrance))\n",
    "print(\"Target entrance Ta is Ta0 = {0}\".format(Ta0))\n",
    "\n",
    "make_plots(result)"
   ]
  },
  {
   "cell_type": "markdown",
   "metadata": {},
   "source": [
    "## Constant temperature heat exchange \n",
    "This is the case of having infinite cooling flowrate"
   ]
  },
  {
   "cell_type": "code",
   "execution_count": 13,
   "metadata": {
    "collapsed": false
   },
   "outputs": [
    {
     "data": {
      "text/plain": [
       "<matplotlib.figure.Figure at 0x116738210>"
      ]
     },
     "metadata": {},
     "output_type": "display_data"
    },
    {
     "data": {
      "text/plain": [
       "<matplotlib.figure.Figure at 0x116ec7610>"
      ]
     },
     "metadata": {},
     "output_type": "display_data"
    },
    {
     "name": "stdout",
     "output_type": "stream",
     "text": [
      "Maximum temperature reached is a bit over 800 K\n",
      "Exit flow rates Fc=4.45, Fd=0.002ish mol/min\n",
      "Selectivity C/D = about 1900\n"
     ]
    }
   ],
   "source": [
    "initial_values = (Fa0, Fb0, Fc0, Fd0, 1.0, T0, Ta0)\n",
    "result = scipy.integrate.odeint(dVector_dV, initial_values,\n",
    "                                volumes, args=('constant-Ta',))\n",
    "make_plots(result)"
   ]
  },
  {
   "cell_type": "markdown",
   "metadata": {},
   "source": [
    "## Adiabatic"
   ]
  },
  {
   "cell_type": "code",
   "execution_count": 14,
   "metadata": {
    "collapsed": false
   },
   "outputs": [
    {
     "data": {
      "text/plain": [
       "<matplotlib.figure.Figure at 0x10a2f0d90>"
      ]
     },
     "metadata": {},
     "output_type": "display_data"
    },
    {
     "data": {
      "text/plain": [
       "<matplotlib.figure.Figure at 0x116d998d0>"
      ]
     },
     "metadata": {},
     "output_type": "display_data"
    },
    {
     "name": "stdout",
     "output_type": "stream",
     "text": [
      "Maximum temperature reached is over 1500 K!!\n",
      "Exit flow rates Fc=4.77, Fd=0.007ish mol/min\n",
      "Selectivity C/D = under 700\n"
     ]
    }
   ],
   "source": [
    "initial_values = (Fa0, Fb0, Fc0, Fd0, 1.0, T0, Ta0)\n",
    "result = scipy.integrate.odeint(dVector_dV, initial_values,\n",
    "                                volumes, args=('adiabatic',))\n",
    "make_plots(result)"
   ]
  },
  {
   "cell_type": "markdown",
   "metadata": {
    "collapsed": true
   },
   "source": [
    "Now play around with reversible reactions (with equilibrium constant being a function of temperature) and pressure drop..."
   ]
  },
  {
   "cell_type": "code",
   "execution_count": null,
   "metadata": {
    "collapsed": true
   },
   "outputs": [],
   "source": []
  }
 ],
 "metadata": {
  "kernelspec": {
   "display_name": "Python 2",
   "language": "python",
   "name": "python2"
  },
  "language_info": {
   "codemirror_mode": {
    "name": "ipython",
    "version": 2
   },
   "file_extension": ".py",
   "mimetype": "text/x-python",
   "name": "python",
   "nbconvert_exporter": "python",
   "pygments_lexer": "ipython2",
   "version": "2.7.11"
  }
 },
 "nbformat": 4,
 "nbformat_minor": 0
}
