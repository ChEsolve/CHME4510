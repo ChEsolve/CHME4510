{
 "cells": [
  {
   "cell_type": "markdown",
   "metadata": {},
   "source": [
    "# Homework 7\n",
    "Question 5. Based on example E7 in the textbook, starting on page 266\n",
    "Be sure to read along.\n",
    "    \n",
    "First we import some libraries and define the experimental data as given in the textbook: $P_{CO}$ and $P_{H_2}$ are the partial pressures of carbon monoxide and hydrogen entering the reactor (in atmospheres), and $C_{CH_4}$ is the concentration of methane leaving it (in moles per decimeter cubed)."
   ]
  },
  {
   "cell_type": "code",
   "execution_count": 1,
   "metadata": {
    "collapsed": false
   },
   "outputs": [],
   "source": [
    "import numpy as np\n",
    "from matplotlib import pyplot as plt\n",
    "%matplotlib inline\n",
    "import scipy.stats\n",
    "import scipy.optimize\n",
    "\n",
    "PCO = np.array([1, 1.8, 4.08, 1, 1, 1])\n",
    "PH2 = np.array([1, 1, 1, 0.1, 0.5, 4])\n",
    "CCH4 = np.array([1.73e-4, 4.4e-4, 10e-4, 1.65e-4, 2.47e-4, 1.75e-4])\n"
   ]
  },
  {
   "cell_type": "markdown",
   "metadata": {},
   "source": [
    "## (a)\n",
    "Calculate an array of values for $r'_{CH_4}$, the rate of formation of methane in mol per gram of catalyst per minute.  The exit volumetric flow rate from the differential packed bed containing 10 g of catalyst was maintained at 300 dm<sup>3</sup>/min for each run. Call your array `rCH4`. It should have 6 elements, corresponding to the arrays above."
   ]
  },
  {
   "cell_type": "code",
   "execution_count": null,
   "metadata": {
    "collapsed": true
   },
   "outputs": [],
   "source": [
    "## your code here\n"
   ]
  },
  {
   "cell_type": "code",
   "execution_count": 3,
   "metadata": {
    "collapsed": false
   },
   "outputs": [],
   "source": [
    "# Some checks that should pass without error:\n",
    "assert 'rCH4' in globals(), \"Didn't call it 'rCH4'?\"\n",
    "assert len(rCH4)==6, \"Doesn't have 6 elements\"\n",
    "for r,c in zip(rCH4, CCH4):\n",
    "    assert round(r/c,5)==30, \"Doesn't have right values\""
   ]
  },
  {
   "cell_type": "markdown",
   "metadata": {},
   "source": [
    "## (b) \n",
    "Use the first three data points where $P_{H_2}$ is constant (remember how to slice an array?), and assuming power law kinetics for the dependence on $P_{CO}$, perform linear regression with `scipy.stats.linregress` to find the $\\alpha$ in $r'_{CH_4} = k' P_{CO}^\\alpha$.\n",
    "Store this in a variable called `alpha`.\n",
    "Plot the graph, showing both the data and the fitted line."
   ]
  },
  {
   "cell_type": "code",
   "execution_count": null,
   "metadata": {
    "collapsed": false
   },
   "outputs": [],
   "source": [
    "## your code here\n"
   ]
  },
  {
   "cell_type": "code",
   "execution_count": 5,
   "metadata": {
    "collapsed": false
   },
   "outputs": [],
   "source": [
    "# A check that it's right\n",
    "assert 'alpha' in globals(), \"Did you call it alpha?\"\n",
    "assert round(alpha,5) == round(1.2323408809505318,5)"
   ]
  },
  {
   "cell_type": "markdown",
   "metadata": {},
   "source": [
    "From this we assume that $\\alpha$ (the exponent for $P_{CO}$) is 1. (The book assures us that if we had more data, we would find the slope is closer to 1)\n",
    "\n",
    "## (c)\n",
    "Read through page 269. Define a function `rate_law(partial_pressures, a, b, beta1, beta2)` which takes five variables and returns the rate $r'_{CH_4}$ according to equation (E7-4.11) in the textbook. The first argument to your function, `partial_pressures`, will contain two elements, $(P_{CO}, P_{H_2})$, which you can index as `partial_pressures[0]` and `partial_pressures[1]`."
   ]
  },
  {
   "cell_type": "code",
   "execution_count": null,
   "metadata": {
    "collapsed": true
   },
   "outputs": [],
   "source": [
    "## your code here\n"
   ]
  },
  {
   "cell_type": "code",
   "execution_count": 7,
   "metadata": {
    "collapsed": false
   },
   "outputs": [],
   "source": [
    "# Some checks that your rate_law is correct:\n",
    "assert 'rate_law' in globals(), \"Did you call it 'rate_law'?\"\n",
    "assert rate_law((0,0), 1, 1, 1, 1) == 0\n",
    "assert rate_law((1.,1.), 1., 1., 1., 1.) == 0.5\n",
    "assert rate_law((10.,1.), 2., 1., 1., 1.) == 10.\n",
    "assert rate_law((10.,5.), 2., 0., 2., 1.) == 500.\n",
    "assert round(rate_law((10.,10.), 2., 2., 2., 2.),5) == round(9.950248756218905,5)"
   ]
  },
  {
   "cell_type": "markdown",
   "metadata": {},
   "source": [
    "Now we need to find values for the parameters `a, b, beta1, beta2` by regressing against the experimental data. Our `x_data` needs to be the $P_{CO}$ and $P_{H_2}$ arrays, stacked. Check carefully that you understand what is happening:"
   ]
  },
  {
   "cell_type": "code",
   "execution_count": 8,
   "metadata": {
    "collapsed": false
   },
   "outputs": [
    {
     "name": "stdout",
     "output_type": "stream",
     "text": [
      "a: 0.0246236195251 +/- 0.110859749884\n",
      "b: 2.39807575577 +/- 15.331686283\n",
      "beta1: 0.607552629352 +/- 1.59491609387\n",
      "beta2: 1.02195126285 +/- 0.722583076141\n"
     ]
    }
   ],
   "source": [
    "x_data = np.stack((PCO, PH2))\n",
    "y_data = rCH4\n",
    "\n",
    "parameters, covariance = scipy.optimize.curve_fit(rate_law, x_data, y_data)\n",
    "errors = np.sqrt(np.diag(covariance))\n",
    "for i, parameter_name in enumerate(['a', 'b', 'beta1', 'beta2']):\n",
    "    print(\"{}: {} +/- {}\".format(parameter_name, parameters[i], errors[i]))"
   ]
  },
  {
   "cell_type": "markdown",
   "metadata": {},
   "source": [
    "The uncertainty on $\\beta_1$ is large, but we have reason to believe (chapter 10 on heterogeneous reactions) that $\\beta_1=0.5$ and $\\beta_2 = 1.0$ are reasonable.  \n",
    "Fixing those parameters, define a new rate law, `rate_law2(partial_pressures, a, b)` and regress again to find the new $a$ and $b$. Store these in variables called `a` and `b`."
   ]
  },
  {
   "cell_type": "code",
   "execution_count": null,
   "metadata": {
    "collapsed": false
   },
   "outputs": [],
   "source": [
    "## your code here\n"
   ]
  },
  {
   "cell_type": "code",
   "execution_count": 10,
   "metadata": {
    "collapsed": true
   },
   "outputs": [],
   "source": [
    "# Some checks on a and b\n",
    "assert round(a,4) == round(0.0180434312887, 4)\n",
    "assert round(b,4) == round(1.48793976863, 4)"
   ]
  },
  {
   "cell_type": "markdown",
   "metadata": {},
   "source": [
    "As always, we should plot something that we expect to be linear, to check that it really does look linear. The book suggests:\n",
    "\n",
    "$$\\frac{P_{CO} P_{H_2}^{1/2}}{r'_{CH_4}}  = \\frac{1}{a} + \\frac{b}{a} P_{H_2}$$"
   ]
  },
  {
   "cell_type": "code",
   "execution_count": 11,
   "metadata": {
    "collapsed": false
   },
   "outputs": [
    {
     "data": {
      "image/png": "[encoded data removed]",
      "text/plain": [
       "<matplotlib.figure.Figure at 0x110e88590>"
      ]
     },
     "metadata": {},
     "output_type": "display_data"
    }
   ],
   "source": [
    "y = PCO * PH2**0.5 / rCH4\n",
    "plt.plot(PH2, y, 'o')\n",
    "plt.plot(PH2, PH2*b/a + 1/a, '-')\n",
    "plt.ylabel(\"$\\\\frac{P_{CO} P_{H_2}^{1/2}}{r'_{CH_4}}$\", fontsize=24)\n",
    "plt.xlabel(\"$P_{H_2}$ (atm)\", fontsize=18)\n",
    "plt.show()"
   ]
  },
  {
   "cell_type": "code",
   "execution_count": null,
   "metadata": {
    "collapsed": true
   },
   "outputs": [],
   "source": []
  }
 ],
 "metadata": {
  "kernelspec": {
   "display_name": "Python 2",
   "language": "python",
   "name": "python2"
  },
  "language_info": {
   "codemirror_mode": {
    "name": "ipython",
    "version": 2
   },
   "file_extension": ".py",
   "mimetype": "text/x-python",
   "name": "python",
   "nbconvert_exporter": "python",
   "pygments_lexer": "ipython2",
   "version": "2.7.11"
  }
 },
 "nbformat": 4,
 "nbformat_minor": 0
}
