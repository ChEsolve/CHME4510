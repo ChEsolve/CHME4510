{
 "cells": [
  {
   "cell_type": "markdown",
   "metadata": {},
   "source": [
    "# Lecture 21 - CSTR design"
   ]
  },
  {
   "cell_type": "code",
   "execution_count": 1,
   "metadata": {
    "collapsed": false
   },
   "outputs": [],
   "source": [
    "# First import some libraries\n",
    "#%matplotlib notebook \n",
    "%matplotlib inline\n",
    "import matplotlib.pyplot as plt\n",
    "import matplotlib\n",
    "import numpy as np\n",
    "import scipy\n",
    "import scipy.integrate\n",
    "import scipy.optimize"
   ]
  },
  {
   "cell_type": "code",
   "execution_count": 2,
   "metadata": {
    "collapsed": false
   },
   "outputs": [
    {
     "name": "stdout",
     "output_type": "stream",
     "text": [
      "If you want to try different figure formatting, type 'conda install seaborn' at an anaconda command prompt or terminal. See https://stanford.edu/~mwaskom/software/seaborn/ for details\n"
     ]
    }
   ],
   "source": [
    "# This cell just tries to make graphs look nicer\n",
    "try:\n",
    "    import seaborn as sns\n",
    "except ImportError:\n",
    "    # This block will be run if there's an ImportError, i.e you don't have seaborn installed.\n",
    "    sns = False\n",
    "    print (\"If you want to try different figure formatting, \"\n",
    "           \"type 'conda install seaborn' at an anaconda command prompt or terminal. \"\n",
    "           \"See https://stanford.edu/~mwaskom/software/seaborn/ for details\")\n",
    "    # If not using seaborn, we can still control the size of the figures this way\n",
    "    from pylab import rcParams\n",
    "    rcParams['figure.figsize'] = 6, 4\n",
    "else:\n",
    "    # This block will be run if there is no ImportError\n",
    "    sns.set_style(\"ticks\")\n",
    "    sns.set_context(\"poster\",rc={\"figure.figsize\": (6, 4)})"
   ]
  },
  {
   "cell_type": "markdown",
   "metadata": {},
   "source": [
    "# System description\n",
    "You are designing a CSTR, based on pilot plant data from a 5.4 litre reactor with a helical coil heater and a double propeller stirrer. You scale up the design to a 1.5m diameter tank. \n",
    "The reaction is **exothermic** with $\\Delta H^{\\circ}_{rxn} = -24650$ kJ/kmol (approximately independent of temperature), but it is only mildly exothermic and the feed is quite cold so you still need to add heat.\n",
    "The helical coil heater is supplied with steam at 100 ˚C and has a surface area for heat transfer of $A=0.685$ m2. \n",
    "You estimate (using your heat transfer skills) an overall heat transfer coefficient (including fouling, etc.) of $U=6500$ kJ/m2/hr/K.\n",
    "The volume of liquid in the tank is constant $V=5.16$ m3. \n",
    "The reaction is first order ($r_A = -kC_A$) and the reactant A is in aqueous solution.\n",
    "The rate coefficient follows the Arrhenius expression $k=A\\exp{(-E_A / RT)}$ with $A=6.163\\times10^{37}$ /hr and $E_A/R = 30480$ K.\n",
    "The feed is an aqueous solution with concentration $C_{A0} = 10$ kmol/m3, at temperature $T_0=300$ K and flow rate $v_0=2.84$ m3/hr.\n",
    "The density and heat capacity of the solution (in the feed and the reactor) are just like water: $\\rho=1000$ kg/m3 and $c_{p}=4.19$ kJ/kg/K.\n",
    "At first you neglect the heat capacity of the reactor walls, coil, stirrer paddle, etc."
   ]
  },
  {
   "cell_type": "code",
   "execution_count": 3,
   "metadata": {
    "collapsed": true
   },
   "outputs": [],
   "source": [
    "# Define constant parameters"
   ]
  },
  {
   "cell_type": "markdown",
   "metadata": {},
   "source": [
    "You first wish to find the steady-state operating conditions of the CSTR.\n",
    "Derive an energy balance and mole balance for steady state operation (using space-time $\\tau$ may simplify your algebra).\n",
    "Find all the solutions to these equations between $T=$0˚C and 100˚C and show whether each root is stable or unstable.\n",
    "If you express the equations as $f_1(T)=0$ and $f_2(C_A)=0$ then you can solve them using a nonlinear equation solver (e.g. [scipy.optimize.root](http://docs.scipy.org/doc/scipy/reference/generated/scipy.optimize.root.html), but it may be hard to find all the roots this way without knowing what to use as an initial guess; a graphical method (section 12.5 of the textbook) will help you find them, and give you a better understanding of what is going on (e.g. plot heat removed or absorbed vs $T$ and heat released vs $T$ on the same graph, like figure 12-14 on p.~560). An alternative would be to plot the energy balance and the mole balance both on a graph of conversion versus temperature (like figure E12-3.2A on p. 556) but the former suggestion makes it easiest to reason about the stability of the multiple steady states.\n",
    "You should find a stable root around $T=360$~K and $C_A=0.4$ kmol/m\\3, which represents a conversion of $X=\\frac{10-0.4}{10}=0.96$. \n"
   ]
  },
  {
   "cell_type": "code",
   "execution_count": null,
   "metadata": {
    "collapsed": true
   },
   "outputs": [],
   "source": []
  },
  {
   "cell_type": "markdown",
   "metadata": {},
   "source": [
    "You now wish to model the start-up of the CSTR.\n",
    "Derive an energy balance and mole balance for non-steady operation, e.g. $\\frac{dT}{dt}=\\ldots$ and $\\frac{C_A}{dt}=\\ldots$.\n",
    "For each scenario solve these differential equations (e.g. using [scipy.integrate.odeint](http://docs.scipy.org/doc/scipy/reference/generated/scipy.integrate.odeint.html) for the first 12 hours of operation. \n",
    "\n",
    "(a) Start with the reactor full of feed ($C_{A}(0)=C_{A0}=10$ kmol/m3 and $T(0)=T_0=300$K).\n"
   ]
  },
  {
   "cell_type": "code",
   "execution_count": null,
   "metadata": {
    "collapsed": true
   },
   "outputs": [],
   "source": []
  },
  {
   "cell_type": "markdown",
   "metadata": {},
   "source": [
    "(b) \n",
    "To try to reach the steady state with 96% conversion, your colleague  proposes running the reactor with no flow (i.e. as a batch reactor) for the first 5 hours. Modify your simulation to model this."
   ]
  },
  {
   "cell_type": "code",
   "execution_count": null,
   "metadata": {
    "collapsed": true
   },
   "outputs": [],
   "source": []
  },
  {
   "cell_type": "markdown",
   "metadata": {
    "collapsed": true
   },
   "source": [
    "(c)\n",
    "What is the peak temperature with this startup procedure? Why is this a problem for an aqueous reaction?"
   ]
  },
  {
   "cell_type": "code",
   "execution_count": null,
   "metadata": {
    "collapsed": true
   },
   "outputs": [],
   "source": []
  },
  {
   "cell_type": "markdown",
   "metadata": {},
   "source": [
    "(d) \n",
    "Propose a way to start up the CSTR reaching the high-conversion steady state, without exceeding 100˚C. "
   ]
  },
  {
   "cell_type": "code",
   "execution_count": null,
   "metadata": {
    "collapsed": true
   },
   "outputs": [],
   "source": []
  }
 ],
 "metadata": {
  "kernelspec": {
   "display_name": "Python 2",
   "language": "python",
   "name": "python2"
  },
  "language_info": {
   "codemirror_mode": {
    "name": "ipython",
    "version": 2
   },
   "file_extension": ".py",
   "mimetype": "text/x-python",
   "name": "python",
   "nbconvert_exporter": "python",
   "pygments_lexer": "ipython2",
   "version": "2.7.10"
  }
 },
 "nbformat": 4,
 "nbformat_minor": 0
}
